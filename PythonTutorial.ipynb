{
  "cells": [
    {
      "cell_type": "markdown",
      "metadata": {
        "id": "aMGsEUWF64GI"
      },
      "source": [
        "#**Importing Libraries**\n"
      ]
    },
    {
      "cell_type": "markdown",
      "metadata": {
        "id": "ELnGuXQeFUCu"
      },
      "source": [
        "\n",
        "**Import the json, pandas, numpy and spotipy libraries**"
      ]
    },
    {
      "cell_type": "code",
      "execution_count": 8,
      "metadata": {
        "id": "aL4rUcafymaN"
      },
      "outputs": [],
      "source": [
        "import json, pandas as pd, numpy as np, spotipy as sp # type: ignore"
      ]
    },
    {
      "cell_type": "markdown",
      "metadata": {
        "id": "vCVcwAbDHu4l"
      },
      "source": [
        "#**Variables, numbers, math and strings**"
      ]
    },
    {
      "cell_type": "markdown",
      "metadata": {
        "id": "jRqIj5o-H2_I"
      },
      "source": [
        "\n",
        "\n",
        "\n",
        "\n",
        "```\n",
        "flourBrandA = \"king arthur all purpose flour\"\n",
        "flourBrandB = \"kroger all purpose flour\"\n",
        "flourAmountNeeded = 0.75\n",
        "\n",
        "print(flourBrandA, flourBrandB)\n",
        "print(\"flour left:\")\n",
        "print(1-flourAmountNeeded)\n",
        "\n",
        "```\n"
      ]
    },
    {
      "cell_type": "markdown",
      "metadata": {
        "id": "FqGGojR-HL4m"
      },
      "source": [
        "What is the output of the code above?"
      ]
    },
    {
      "cell_type": "markdown",
      "metadata": {
        "id": "QUzVxtvWHPjZ"
      },
      "source": [
        "Answer: \n",
        "\n",
        "king arthur all purpose flourkroger all purpose flour\n",
        "\n",
        "flour left:\n",
        "\n",
        "0.25"
      ]
    },
    {
      "cell_type": "markdown",
      "metadata": {
        "id": "Fm915uqsLqPO"
      },
      "source": [
        "#**Functions**\n",
        "\n"
      ]
    },
    {
      "cell_type": "markdown",
      "metadata": {
        "id": "0tzQZ7APFuog"
      },
      "source": [
        "What will be the output of the cell below?"
      ]
    },
    {
      "cell_type": "code",
      "execution_count": 11,
      "metadata": {
        "id": "k3qWFNMSQIIJ"
      },
      "outputs": [
        {
          "name": "stdout",
          "output_type": "stream",
          "text": [
            "bananasrunsfast\n",
            "That is very cool\n"
          ]
        }
      ],
      "source": [
        "def madlibs(adj, noun, verb):\n",
        "  print(noun+verb+adj)\n",
        "  print(\"That is very cool\")\n",
        "\n",
        "madlibs(\"fast\",\"bananas\", \"runs\")\n"
      ]
    },
    {
      "cell_type": "markdown",
      "metadata": {
        "id": "eQxvo8WDF9cp"
      },
      "source": [
        "Answer:\n",
        "\n",
        "bananasrunsfast\n",
        "\n",
        "That is very cool"
      ]
    },
    {
      "cell_type": "markdown",
      "metadata": {
        "id": "ZafX5NtdGjJy"
      },
      "source": [
        "\n",
        "\n",
        "```\n",
        "def subtraction(number1, number2)\n",
        "  return number1-number2\n",
        "\n",
        "x = subtraction(2, 4)\n",
        "```\n",
        "\n",
        "What is the value of x?\n",
        "\n",
        "\n"
      ]
    },
    {
      "cell_type": "markdown",
      "metadata": {
        "id": "E1CIPvj2G7pR"
      },
      "source": [
        "Answer: -2"
      ]
    },
    {
      "cell_type": "markdown",
      "metadata": {
        "id": "mnAVmpYoJXm2"
      },
      "source": [
        "#**Lists, Dictionaries, Sets, Indexing**\n",
        "\n",
        "\n",
        "What is the value of aList[3]?"
      ]
    },
    {
      "cell_type": "code",
      "execution_count": 10,
      "metadata": {
        "id": "7FYPE2YCIWUi"
      },
      "outputs": [],
      "source": [
        "aList = [\"mdst\"]\n",
        "aList.append(\"sundays\")\n",
        "aList.append(\"mondays\")\n",
        "aList.append(\"tuesdays\")\n",
        "aList.append(\"wednesdays\")\n",
        "aList[3] = \"wednesdays\""
      ]
    },
    {
      "cell_type": "markdown",
      "metadata": {
        "id": "ZDmXxPPJIXVK"
      },
      "source": [
        "Answer: wednesdays"
      ]
    },
    {
      "cell_type": "markdown",
      "metadata": {
        "id": "JqoBQjw9L6hv"
      },
      "source": [
        "#**References**"
      ]
    },
    {
      "cell_type": "markdown",
      "metadata": {
        "id": "QoUJMdPqKIv9"
      },
      "source": [
        "What do you think the output is in the code below?\n",
        "\n",
        "\n",
        "```\n",
        "x=[3,4]\n",
        "y=[1,2]\n",
        "x=y\n",
        "y[1] = 5\n",
        "print(x)\n",
        "```\n",
        "\n"
      ]
    },
    {
      "cell_type": "markdown",
      "metadata": {
        "id": "BKTykb0HKnmY"
      },
      "source": [
        "Answer: [1,2]\n",
        "\n",
        "**Once you have your answer** go to pythontutor.com, paste the code, and see how references influence the output"
      ]
    },
    {
      "cell_type": "markdown",
      "metadata": {
        "id": "7bt6A0e-5k6L"
      },
      "source": [
        "# **Keywords**\n",
        "What happens if you try to create a variable with the name of a keyword?"
      ]
    },
    {
      "cell_type": "markdown",
      "metadata": {},
      "source": [
        "An error is thrown because keywords are reserved for python functionality. "
      ]
    },
    {
      "cell_type": "markdown",
      "metadata": {
        "id": "REHTyAbD5YmV"
      },
      "source": [
        "# **If else if else**\n",
        "\n",
        "You are given a variable *age* with some unknown value. Use if statements to print if a person can drive given some unknown age (aka use the age variable in your code)\n"
      ]
    },
    {
      "cell_type": "code",
      "execution_count": 13,
      "metadata": {},
      "outputs": [
        {
          "name": "stdout",
          "output_type": "stream",
          "text": [
            "True\n"
          ]
        }
      ],
      "source": [
        "age = 20\n",
        "\n",
        "if (age < 16) : print(False)\n",
        "else : print(True)"
      ]
    },
    {
      "cell_type": "markdown",
      "metadata": {
        "id": "LzuQZTVlMLKU"
      },
      "source": [
        "#**Loops**"
      ]
    },
    {
      "cell_type": "markdown",
      "metadata": {
        "id": "GfRW3k093Lyh"
      },
      "source": [
        "Write a for loop that prints a statement \"____ is a type of fruit\" where ____ is an element in the list defined below. Code a solution 3 lines or less\n",
        "\n",
        "\n",
        "\n",
        "```\n",
        "fruits = [\"kiwis\", \"star fruit\", \"raspberries\", \"watermelon\", \"pear\", \"apples\", \"oranges\"]\n",
        "```\n",
        "\n"
      ]
    },
    {
      "cell_type": "markdown",
      "metadata": {
        "id": "1c_emQJq4hSZ"
      },
      "source": [
        "Write a while loop that increments variable i with an initial value of 9 by 1 each iteration of the loop. Have the loop break when the value of variable i reaches 16. Print a statement that alerts you that i has reached 16. hint: in the while loop, should the print statment be used before the keyword \"break\" or after? What happens when you print before vs after?"
      ]
    },
    {
      "cell_type": "code",
      "execution_count": 17,
      "metadata": {
        "id": "MNYSZEeIQGWB"
      },
      "outputs": [
        {
          "name": "stdout",
          "output_type": "stream",
          "text": [
            "kiwis is a type of fruit\n",
            "star fruit is a type of fruit\n",
            "raspberries is a type of fruit\n",
            "watermelon is a type of fruit\n",
            "pear is a type of fruit\n",
            "apples is a type of fruit\n",
            "oranges is a type of fruit\n"
          ]
        }
      ],
      "source": [
        "fruits = [\"kiwis\", \"star fruit\", \"raspberries\", \"watermelon\", \"pear\", \"apples\", \"oranges\"]\n",
        "for fruit in fruits : print(f\"{fruit} is a type of fruit\")"
      ]
    },
    {
      "cell_type": "markdown",
      "metadata": {
        "id": "wKJq-0ixM0t3"
      },
      "source": [
        "#**Using Libaries and reading documentation practice**"
      ]
    },
    {
      "cell_type": "markdown",
      "metadata": {
        "id": "VBqXHun09DjF"
      },
      "source": [
        "Look up functions in the json library that you can use to read and write to a .json file. What arguments are required for the functions? Are there optional arguments?"
      ]
    },
    {
      "cell_type": "markdown",
      "metadata": {
        "id": "P8vi_q8c9VIP"
      },
      "source": [
        "Your solution:\n",
        "\n",
        "\"json.dump()\" writes an object to a file in json format. \n",
        "\n",
        "\"json.load()\" reads json into a python object. \n",
        "\n",
        "\"json.JSONDecoder()\" converts json types into python types. "
      ]
    },
    {
      "cell_type": "markdown",
      "metadata": {
        "id": "wfKile7wMASA"
      },
      "source": [
        "#**Reading and writing to files**\n"
      ]
    },
    {
      "cell_type": "markdown",
      "metadata": {
        "id": "0baa_rdtsJ2l"
      },
      "source": [
        "Download the file workSessionOne.json from github.com/and read it into a pandas dataframe named dfDemo"
      ]
    },
    {
      "cell_type": "code",
      "execution_count": 18,
      "metadata": {
        "id": "IPV1hC66QEvv"
      },
      "outputs": [],
      "source": [
        "dfDemo = pd.read_json(\"workSessionOne.json\")"
      ]
    },
    {
      "cell_type": "markdown",
      "metadata": {
        "id": "Tvp7Xk0nOqlO"
      },
      "source": [
        "#**Commenting**\n",
        "\n",
        "Sometimes you want to write things for yourself or other people reading your code, such as explainations, or reminders to continue writing code for a dunction\n",
        "\n",
        "You can leave a note for youself in two ways:\n",
        "\n",
        "- #: used for when the note is short (less than 80 characters)\n",
        "- \"\"\"some note\"\"\" or three double quotes: used for when the note will be multiple lines long\n",
        "**Write one note using # and another using the triple quotes**\n",
        "\n",
        "(if you run the cell with just the note, the cell should not have any output)"
      ]
    },
    {
      "cell_type": "code",
      "execution_count": 19,
      "metadata": {
        "id": "hpm_J5aJQDkN"
      },
      "outputs": [],
      "source": [
        "# hello"
      ]
    },
    {
      "cell_type": "markdown",
      "metadata": {
        "id": "s_hp_TqY7K1U"
      },
      "source": [
        "# **Debug Exercise**"
      ]
    },
    {
      "cell_type": "markdown",
      "metadata": {
        "id": "GJSWwpI3NDqP"
      },
      "source": [
        "Resources you can go back to:\n",
        "- pythontutor.com\n",
        "- w3schools.com/python/"
      ]
    }
  ],
  "metadata": {
    "colab": {
      "provenance": []
    },
    "kernelspec": {
      "display_name": "Python 3",
      "name": "python3"
    },
    "language_info": {
      "codemirror_mode": {
        "name": "ipython",
        "version": 3
      },
      "file_extension": ".py",
      "mimetype": "text/x-python",
      "name": "python",
      "nbconvert_exporter": "python",
      "pygments_lexer": "ipython3",
      "version": "3.11.8"
    }
  },
  "nbformat": 4,
  "nbformat_minor": 0
}
